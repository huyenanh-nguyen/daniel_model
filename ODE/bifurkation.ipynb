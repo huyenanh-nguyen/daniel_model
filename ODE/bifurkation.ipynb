{
 "cells": [
  {
   "cell_type": "code",
   "execution_count": 1,
   "id": "6d017273",
   "metadata": {},
   "outputs": [],
   "source": [
    "import numpy as np\n",
    "import pandas as pd\n",
    "import matplotlib.pyplot as plt\n",
    "from scipy.integrate import odeint\n",
    "from scipy.signal import argrelmax, argrelextrema\n",
    "from scipy.signal import find_peaks\n",
    "from scipy.fft import fft\n",
    "import math\n",
    "from matplotlib.colors import ListedColormap\n",
    "import matplotlib.patches as mpatches\n",
    "\n",
    "from onesidedcoupling import OnesidedCoupling"
   ]
  },
  {
   "cell_type": "code",
   "execution_count": 7,
   "id": "4b3ae655",
   "metadata": {},
   "outputs": [],
   "source": [
    "t_step = 0.01\n",
    "t_last = 100 # 50h -> 1 point represent 1h\n",
    "t = np.arange(0, 4000, t_step)\n",
    "keep = int(t_last / t_step)\n",
    "k_up = np.arange(0,1, 0.01)\n",
    "k_down = k_up[::-1]\n",
    "gamma = 0.2\n",
    "mu = 2\n",
    "beta = 0.2\n",
    "alpha = 0.5\n",
    "T = OnesidedCoupling((1,1,1,1), t, keep, 1, mu, gamma, alpha, beta).period(10)[1]"
   ]
  },
  {
   "cell_type": "code",
   "execution_count": 8,
   "id": "27591731",
   "metadata": {},
   "outputs": [],
   "source": [
    "def compute_amplitude(par, t, keep, k, mu, gamma, alpha, beta):\n",
    "    amp = OnesidedCoupling(par, t, keep, k, mu, gamma, alpha, beta).find_peaks_max()[1][1]['peak_heights'][-10:]\n",
    "    # if math.isnan(amp):\n",
    "    #     return 0\n",
    "    \n",
    "    # else:\n",
    "    return amp"
   ]
  },
  {
   "cell_type": "code",
   "execution_count": 9,
   "id": "72952e62",
   "metadata": {},
   "outputs": [],
   "source": [
    "par0 = 1,1,1,1\n",
    "amplitudes_up = []\n",
    "amplitudes_down = []\n",
    "\n",
    "for f in k_up:\n",
    "    sol = OnesidedCoupling(par0, t, keep, f, mu, gamma, alpha, beta).duffvdpsolver()\n",
    "    par0 = sol[-1]\n",
    "    amplitudes_up.append(compute_amplitude(par0, t, keep, f, mu, gamma, alpha, beta))\n",
    "\n",
    "\n",
    "par0 = sol[-1]\n",
    "\n",
    "for j in k_down:\n",
    "    sol = OnesidedCoupling(par0, t, keep, j, mu, gamma, alpha, beta).duffvdpsolver()\n",
    "    par0 = sol[-1]  \n",
    "    amplitudes_down.append(compute_amplitude(par0, t, keep, j, mu, gamma, alpha, beta))\n",
    "\n"
   ]
  },
  {
   "cell_type": "code",
   "execution_count": 5,
   "id": "068fc126",
   "metadata": {},
   "outputs": [
    {
     "data": {
      "text/plain": [
       "array([0.3289809 , 0.32898088, 0.32898085, 0.32898081, 0.32898075,\n",
       "       0.32898068, 0.3289806 , 0.3289805 , 0.32898039, 0.32898027])"
      ]
     },
     "execution_count": 5,
     "metadata": {},
     "output_type": "execute_result"
    }
   ],
   "source": [
    "amplitudes_down[-10]"
   ]
  },
  {
   "cell_type": "code",
   "execution_count": 10,
   "id": "43e978da",
   "metadata": {},
   "outputs": [
    {
     "data": {
      "text/plain": [
       "<function matplotlib.pyplot.show(close=None, block=None)>"
      ]
     },
     "execution_count": 10,
     "metadata": {},
     "output_type": "execute_result"
    },
    {
     "data": {
      "image/png": "[encoded data removed]",
      "text/plain": [
       "<Figure size 640x480 with 1 Axes>"
      ]
     },
     "metadata": {},
     "output_type": "display_data"
    }
   ],
   "source": [
    "for e,k in enumerate(k_up):\n",
    "    try:\n",
    "        plt.plot([k]*10, amplitudes_up[e],'k.', markersize=0.5)\n",
    "    except:\n",
    "        None\n",
    "\n",
    "for j,w in enumerate(k_down):\n",
    "    try:\n",
    "        plt.plot([w]*10, amplitudes_down[j],'r.', markersize=1.5)\n",
    "    except:\n",
    "        None\n",
    "\n",
    "plt.xlabel(\"k\")\n",
    "plt.ylabel(\"A$_{Duffing}$ in a.u.\")\n",
    "plt.show"
   ]
  },
  {
   "cell_type": "code",
   "execution_count": 112,
   "id": "df8ae3f7",
   "metadata": {},
   "outputs": [],
   "source": [
    "t_step = 0.01\n",
    "t_last = 100 # 50h -> 1 point represent 1h\n",
    "t = np.arange(0, 4000, t_step)\n",
    "keep = int(t_last / t_step)\n",
    "k_up = np.arange(0.05,0.2, 0.001)\n",
    "k_down = k_up[::-1]\n",
    "gamma = 0.2\n",
    "mu = 2\n",
    "beta = 0.5\n",
    "alpha = 0.1\n"
   ]
  },
  {
   "cell_type": "code",
   "execution_count": 113,
   "id": "e4d2ef3e",
   "metadata": {},
   "outputs": [],
   "source": [
    "par0 = 1,1,1,1\n",
    "amplitudes_up = []\n",
    "amplitudes_down = []\n",
    "\n",
    "for f in k_up:\n",
    "    sol = OnesidedCoupling(par0, t, keep, f, mu, gamma, alpha, beta).duffvdpsolver()\n",
    "    par0 = sol[-1]\n",
    "    amplitudes_up.append(compute_amplitude(par0, t, keep, f, mu, gamma, alpha, beta))\n",
    "\n",
    "\n",
    "par0 = sol[-1]\n",
    "\n",
    "for j in k_down:\n",
    "    sol = OnesidedCoupling(par0, t, keep, j, mu, gamma, alpha, beta).duffvdpsolver()\n",
    "    par0 = sol[-1]  \n",
    "    amplitudes_down.append(compute_amplitude(par0, t, keep, j, mu, gamma, alpha, beta))\n",
    "\n"
   ]
  },
  {
   "cell_type": "code",
   "execution_count": 108,
   "id": "6d2be176",
   "metadata": {},
   "outputs": [
    {
     "data": {
      "text/plain": [
       "[array([1.42206771, 1.42206768, 1.42206807, 1.42206615, 1.42206556,\n",
       "        1.42206598, 1.42206544, 1.42206399, 1.42206327, 1.42206314]),\n",
       " array([0.1737632 , 0.17376421, 0.17376317, 0.17376418, 0.17376314,\n",
       "        0.17376414, 0.1737631 , 0.1737641 , 0.17376305, 0.17376405])]"
      ]
     },
     "execution_count": 108,
     "metadata": {},
     "output_type": "execute_result"
    }
   ],
   "source": [
    "amplitudes_down"
   ]
  },
  {
   "cell_type": "code",
   "execution_count": 116,
   "id": "329b6ec6",
   "metadata": {},
   "outputs": [
    {
     "data": {
      "text/plain": [
       "<function matplotlib.pyplot.show(close=None, block=None)>"
      ]
     },
     "execution_count": 116,
     "metadata": {},
     "output_type": "execute_result"
    },
    {
     "data": {
      "image/png": "[encoded data removed]",
      "text/plain": [
       "<Figure size 640x480 with 1 Axes>"
      ]
     },
     "metadata": {},
     "output_type": "display_data"
    }
   ],
   "source": [
    "for e,k in enumerate(k_up):\n",
    "    try:\n",
    "        plt.plot([k]*10, amplitudes_up[e],'k.', markersize=0.5)\n",
    "    except:\n",
    "        None\n",
    "\n",
    "for j,w in enumerate(k_down):\n",
    "    try:\n",
    "        plt.plot([w]*10, amplitudes_down[j],'r.', markersize=0.5, alpha = 0.5)\n",
    "    except:\n",
    "        None\n",
    "\n",
    "plt.xlabel(\"k\")\n",
    "plt.ylabel(\"A$_{Duffing}$ in a.u.\")\n",
    "plt.show"
   ]
  },
  {
   "cell_type": "code",
   "execution_count": 117,
   "id": "c388f3ca",
   "metadata": {},
   "outputs": [],
   "source": [
    "t_step = 0.01\n",
    "t_last = 100 # 50h -> 1 point represent 1h\n",
    "t = np.arange(0, 4000, t_step)\n",
    "keep = int(t_last / t_step)\n",
    "k_up = np.arange(4,10, 0.1)\n",
    "k_down = k_up[::-1]\n",
    "gamma = 0.2\n",
    "mu = 2\n",
    "beta = 0.5\n",
    "alpha = 0.1\n"
   ]
  },
  {
   "cell_type": "code",
   "execution_count": 118,
   "id": "43885c82",
   "metadata": {},
   "outputs": [],
   "source": [
    "par0 = 1,1,1,1\n",
    "amplitudes_up = []\n",
    "amplitudes_down = []\n",
    "\n",
    "for f in k_up:\n",
    "    sol = OnesidedCoupling(par0, t, keep, f, mu, gamma, alpha, beta).duffvdpsolver()\n",
    "    par0 = sol[-1]\n",
    "    amplitudes_up.append(compute_amplitude(par0, t, keep, f, mu, gamma, alpha, beta))\n",
    "\n",
    "\n",
    "par0 = sol[-1]\n",
    "\n",
    "for j in k_down:\n",
    "    sol = OnesidedCoupling(par0, t, keep, j, mu, gamma, alpha, beta).duffvdpsolver()\n",
    "    par0 = sol[-1]  \n",
    "    amplitudes_down.append(compute_amplitude(par0, t, keep, j, mu, gamma, alpha, beta))\n",
    "\n"
   ]
  },
  {
   "cell_type": "code",
   "execution_count": 119,
   "id": "50ea296c",
   "metadata": {},
   "outputs": [
    {
     "data": {
      "text/plain": [
       "<function matplotlib.pyplot.show(close=None, block=None)>"
      ]
     },
     "execution_count": 119,
     "metadata": {},
     "output_type": "execute_result"
    },
    {
     "data": {
      "image/png": "[encoded data removed]",
      "text/plain": [
       "<Figure size 640x480 with 1 Axes>"
      ]
     },
     "metadata": {},
     "output_type": "display_data"
    }
   ],
   "source": [
    "for e,k in enumerate(k_up):\n",
    "    try:\n",
    "        plt.plot([k]*10, amplitudes_up[e],'k.', markersize=0.5)\n",
    "    except:\n",
    "        None\n",
    "\n",
    "for j,w in enumerate(k_down):\n",
    "    try:\n",
    "        plt.plot([w]*10, amplitudes_down[j],'r.', markersize=0.5, alpha = 0.5)\n",
    "    except:\n",
    "        None\n",
    "\n",
    "plt.xlabel(\"k\")\n",
    "plt.ylabel(\"A$_{Duffing}$ in a.u.\")\n",
    "plt.show"
   ]
  }
 ],
 "metadata": {
  "kernelspec": {
   "display_name": "env",
   "language": "python",
   "name": "python3"
  },
  "language_info": {
   "codemirror_mode": {
    "name": "ipython",
    "version": 3
   },
   "file_extension": ".py",
   "mimetype": "text/x-python",
   "name": "python",
   "nbconvert_exporter": "python",
   "pygments_lexer": "ipython3",
   "version": "3.11.6"
  }
 },
 "nbformat": 4,
 "nbformat_minor": 5
}
